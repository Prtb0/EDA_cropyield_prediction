{
 "cells": [
  {
   "cell_type": "markdown",
   "metadata": {
    "azdata_cell_guid": "26037d32-2047-4157-81ef-595916bd66a0"
   },
   "source": [
    "# Checkpoint Three: Cleaning Data\n",
    "\n",
    "Now you are ready to clean your data. Before starting coding, provide the link to your dataset below.\n",
    "\n",
    "My dataset::https://www.kaggle.com/datasets/patelris/crop-yield-prediction-dataset\n",
    "\n",
    "Import the necessary libraries and create your dataframe(s)."
   ]
  },
  {
   "cell_type": "code",
   "execution_count": 7,
   "metadata": {
    "azdata_cell_guid": "e8adef8e-d0f2-4640-a179-5997f11e82ca"
   },
   "outputs": [],
   "source": [
    "import pandas as pd\n",
    "import matplotlib.pyplot as plt\n",
    "import seaborn as sns\n",
    "import numpy as np\n",
    "\n",
    "# Read the data\n",
    "df1 = pd.read_csv('C://Users//prave//Desktop//LaunchcodeW+//EDA_cropyield_prediction//cropyieldprediction//pesticides.csv')\n",
    "df2 = pd.read_csv('C://Users//prave//Desktop//LaunchcodeW+//EDA_cropyield_prediction//cropyieldprediction//rainfall.csv')\n",
    "df3 = pd.read_csv('C://Users//prave//Desktop//LaunchcodeW+//EDA_cropyield_prediction//cropyieldprediction//temp.csv')\n",
    "df4 = pd.read_csv('C://Users//prave//Desktop//LaunchcodeW+//EDA_cropyield_prediction//cropyieldprediction//yield.csv')\n",
    "df5 = pd.read_csv('C://Users//prave//Desktop//LaunchcodeW+//EDA_cropyield_prediction//cropyieldprediction//yield_df.csv')\n",
    "# Want to check if the dataframe was properly imported and see what kind of data is stored in each "
   ]
  },
  {
   "cell_type": "code",
   "execution_count": 2,
   "metadata": {},
   "outputs": [
    {
     "name": "stdout",
     "output_type": "stream",
     "text": [
      "<class 'pandas.core.frame.DataFrame'>\n",
      "RangeIndex: 4349 entries, 0 to 4348\n",
      "Data columns (total 7 columns):\n",
      " #   Column   Non-Null Count  Dtype  \n",
      "---  ------   --------------  -----  \n",
      " 0   Domain   4349 non-null   object \n",
      " 1   Area     4349 non-null   object \n",
      " 2   Element  4349 non-null   object \n",
      " 3   Item     4349 non-null   object \n",
      " 4   Year     4349 non-null   int64  \n",
      " 5   Unit     4349 non-null   object \n",
      " 6   Value    4349 non-null   float64\n",
      "dtypes: float64(1), int64(1), object(5)\n",
      "memory usage: 238.0+ KB\n"
     ]
    }
   ],
   "source": [
    "#info of the data\n",
    "df1.info()"
   ]
  },
  {
   "cell_type": "code",
   "execution_count": 3,
   "metadata": {},
   "outputs": [
    {
     "name": "stdout",
     "output_type": "stream",
     "text": [
      "<class 'pandas.core.frame.DataFrame'>\n",
      "RangeIndex: 6727 entries, 0 to 6726\n",
      "Data columns (total 3 columns):\n",
      " #   Column                         Non-Null Count  Dtype \n",
      "---  ------                         --------------  ----- \n",
      " 0    Area                          6727 non-null   object\n",
      " 1   Year                           6727 non-null   int64 \n",
      " 2   average_rain_fall_mm_per_year  5953 non-null   object\n",
      "dtypes: int64(1), object(2)\n",
      "memory usage: 157.8+ KB\n"
     ]
    }
   ],
   "source": [
    "df2.info()"
   ]
  },
  {
   "cell_type": "code",
   "execution_count": 4,
   "metadata": {},
   "outputs": [
    {
     "name": "stdout",
     "output_type": "stream",
     "text": [
      "<class 'pandas.core.frame.DataFrame'>\n",
      "RangeIndex: 71311 entries, 0 to 71310\n",
      "Data columns (total 3 columns):\n",
      " #   Column    Non-Null Count  Dtype  \n",
      "---  ------    --------------  -----  \n",
      " 0   year      71311 non-null  int64  \n",
      " 1   country   71311 non-null  object \n",
      " 2   avg_temp  68764 non-null  float64\n",
      "dtypes: float64(1), int64(1), object(1)\n",
      "memory usage: 1.6+ MB\n"
     ]
    }
   ],
   "source": [
    "df3.info()"
   ]
  },
  {
   "cell_type": "code",
   "execution_count": 5,
   "metadata": {},
   "outputs": [
    {
     "name": "stdout",
     "output_type": "stream",
     "text": [
      "<class 'pandas.core.frame.DataFrame'>\n",
      "RangeIndex: 56717 entries, 0 to 56716\n",
      "Data columns (total 12 columns):\n",
      " #   Column        Non-Null Count  Dtype \n",
      "---  ------        --------------  ----- \n",
      " 0   Domain Code   56717 non-null  object\n",
      " 1   Domain        56717 non-null  object\n",
      " 2   Area Code     56717 non-null  int64 \n",
      " 3   Area          56717 non-null  object\n",
      " 4   Element Code  56717 non-null  int64 \n",
      " 5   Element       56717 non-null  object\n",
      " 6   Item Code     56717 non-null  int64 \n",
      " 7   Item          56717 non-null  object\n",
      " 8   Year Code     56717 non-null  int64 \n",
      " 9   Year          56717 non-null  int64 \n",
      " 10  Unit          56717 non-null  object\n",
      " 11  Value         56717 non-null  int64 \n",
      "dtypes: int64(6), object(6)\n",
      "memory usage: 5.2+ MB\n"
     ]
    }
   ],
   "source": [
    "df4.info()"
   ]
  },
  {
   "cell_type": "code",
   "execution_count": 6,
   "metadata": {},
   "outputs": [
    {
     "name": "stdout",
     "output_type": "stream",
     "text": [
      "<class 'pandas.core.frame.DataFrame'>\n",
      "RangeIndex: 28242 entries, 0 to 28241\n",
      "Data columns (total 8 columns):\n",
      " #   Column                         Non-Null Count  Dtype  \n",
      "---  ------                         --------------  -----  \n",
      " 0   Unnamed: 0                     28242 non-null  int64  \n",
      " 1   Area                           28242 non-null  object \n",
      " 2   Item                           28242 non-null  object \n",
      " 3   Year                           28242 non-null  int64  \n",
      " 4   hg/ha_yield                    28242 non-null  int64  \n",
      " 5   average_rain_fall_mm_per_year  28242 non-null  float64\n",
      " 6   pesticides_tonnes              28242 non-null  float64\n",
      " 7   avg_temp                       28242 non-null  float64\n",
      "dtypes: float64(3), int64(3), object(2)\n",
      "memory usage: 1.7+ MB\n"
     ]
    }
   ],
   "source": [
    "df5.info()"
   ]
  },
  {
   "cell_type": "code",
   "execution_count": 8,
   "metadata": {},
   "outputs": [
    {
     "data": {
      "text/plain": [
       "Index(['Domain', 'Area', 'Element', 'Item', 'Year', 'Unit', 'Value'], dtype='object')"
      ]
     },
     "execution_count": 8,
     "metadata": {},
     "output_type": "execute_result"
    }
   ],
   "source": [
    "df1.columns"
   ]
  },
  {
   "cell_type": "code",
   "execution_count": 11,
   "metadata": {},
   "outputs": [
    {
     "data": {
      "text/plain": [
       "Index([' Area', 'Year', 'average_rain_fall_mm_per_year'], dtype='object')"
      ]
     },
     "execution_count": 11,
     "metadata": {},
     "output_type": "execute_result"
    }
   ],
   "source": [
    "df2.columns"
   ]
  },
  {
   "cell_type": "code",
   "execution_count": 12,
   "metadata": {},
   "outputs": [
    {
     "data": {
      "text/plain": [
       "Index(['year', 'country', 'avg_temp'], dtype='object')"
      ]
     },
     "execution_count": 12,
     "metadata": {},
     "output_type": "execute_result"
    }
   ],
   "source": [
    "df3.columns"
   ]
  },
  {
   "cell_type": "code",
   "execution_count": 14,
   "metadata": {},
   "outputs": [
    {
     "data": {
      "text/plain": [
       "Index(['Domain Code', 'Domain', 'Area Code', 'Area', 'Element Code', 'Element',\n",
       "       'Item Code', 'Item', 'Year Code', 'Year', 'Unit', 'Value'],\n",
       "      dtype='object')"
      ]
     },
     "execution_count": 14,
     "metadata": {},
     "output_type": "execute_result"
    }
   ],
   "source": [
    "df4.columns"
   ]
  },
  {
   "cell_type": "code",
   "execution_count": 15,
   "metadata": {},
   "outputs": [
    {
     "data": {
      "text/plain": [
       "Index(['Unnamed: 0', 'Area', 'Item', 'Year', 'hg/ha_yield',\n",
       "       'average_rain_fall_mm_per_year', 'pesticides_tonnes', 'avg_temp'],\n",
       "      dtype='object')"
      ]
     },
     "execution_count": 15,
     "metadata": {},
     "output_type": "execute_result"
    }
   ],
   "source": [
    "df5.columns"
   ]
  },
  {
   "cell_type": "code",
   "execution_count": 18,
   "metadata": {},
   "outputs": [
    {
     "name": "stdout",
     "output_type": "stream",
     "text": [
      "(4349, 7)\n",
      "Domain      object\n",
      "Area        object\n",
      "Element     object\n",
      "Item        object\n",
      "Year         int64\n",
      "Unit        object\n",
      "Value      float64\n",
      "dtype: object\n"
     ]
    }
   ],
   "source": [
    "print(df1.shape)\n",
    "print(df1.dtypes)"
   ]
  },
  {
   "cell_type": "code",
   "execution_count": 19,
   "metadata": {},
   "outputs": [
    {
     "name": "stdout",
     "output_type": "stream",
     "text": [
      "(6727, 3)\n",
      " Area                            object\n",
      "Year                              int64\n",
      "average_rain_fall_mm_per_year    object\n",
      "dtype: object\n"
     ]
    }
   ],
   "source": [
    "print(df2.shape)\n",
    "print(df2.dtypes)"
   ]
  },
  {
   "cell_type": "code",
   "execution_count": 20,
   "metadata": {},
   "outputs": [
    {
     "name": "stdout",
     "output_type": "stream",
     "text": [
      "(71311, 3)\n",
      "year          int64\n",
      "country      object\n",
      "avg_temp    float64\n",
      "dtype: object\n"
     ]
    }
   ],
   "source": [
    "print(df3.shape)\n",
    "print(df3.dtypes)"
   ]
  },
  {
   "cell_type": "code",
   "execution_count": 21,
   "metadata": {},
   "outputs": [
    {
     "name": "stdout",
     "output_type": "stream",
     "text": [
      "(56717, 12)\n",
      "Domain Code     object\n",
      "Domain          object\n",
      "Area Code        int64\n",
      "Area            object\n",
      "Element Code     int64\n",
      "Element         object\n",
      "Item Code        int64\n",
      "Item            object\n",
      "Year Code        int64\n",
      "Year             int64\n",
      "Unit            object\n",
      "Value            int64\n",
      "dtype: object\n"
     ]
    }
   ],
   "source": [
    "print(df4.shape)\n",
    "print(df4.dtypes)"
   ]
  },
  {
   "cell_type": "code",
   "execution_count": 22,
   "metadata": {},
   "outputs": [
    {
     "name": "stdout",
     "output_type": "stream",
     "text": [
      "(28242, 8)\n",
      "Unnamed: 0                         int64\n",
      "Area                              object\n",
      "Item                              object\n",
      "Year                               int64\n",
      "hg/ha_yield                        int64\n",
      "average_rain_fall_mm_per_year    float64\n",
      "pesticides_tonnes                float64\n",
      "avg_temp                         float64\n",
      "dtype: object\n"
     ]
    }
   ],
   "source": [
    "print(df5.shape)\n",
    "print(df5.dtypes)"
   ]
  },
  {
   "cell_type": "code",
   "execution_count": 23,
   "metadata": {},
   "outputs": [
    {
     "name": "stdout",
     "output_type": "stream",
     "text": [
      "['Year' 'Value']\n",
      "['Domain' 'Area' 'Element' 'Item' 'Unit']\n"
     ]
    }
   ],
   "source": [
    "# select numeric columns\n",
    "df_numeric = df1.select_dtypes(include=[np.number])\n",
    "numeric_cols = df_numeric.columns.values\n",
    "print(numeric_cols)\n",
    "\n",
    "# select non numeric columns\n",
    "df_non_numeric = df1.select_dtypes(exclude=[np.number])\n",
    "non_numeric_cols = df_non_numeric.columns.values\n",
    "print(non_numeric_cols)"
   ]
  },
  {
   "cell_type": "code",
   "execution_count": 24,
   "metadata": {},
   "outputs": [
    {
     "name": "stdout",
     "output_type": "stream",
     "text": [
      "['Year']\n",
      "[' Area' 'average_rain_fall_mm_per_year']\n"
     ]
    }
   ],
   "source": [
    "# select numeric columns\n",
    "df_numeric = df2.select_dtypes(include=[np.number])\n",
    "numeric_cols = df_numeric.columns.values\n",
    "print(numeric_cols)\n",
    "\n",
    "# select non numeric columns\n",
    "df_non_numeric = df2.select_dtypes(exclude=[np.number])\n",
    "non_numeric_cols = df_non_numeric.columns.values\n",
    "print(non_numeric_cols)"
   ]
  },
  {
   "cell_type": "code",
   "execution_count": 25,
   "metadata": {},
   "outputs": [
    {
     "name": "stdout",
     "output_type": "stream",
     "text": [
      "['year' 'avg_temp']\n",
      "['country']\n"
     ]
    }
   ],
   "source": [
    "# select numeric columns\n",
    "df_numeric = df3.select_dtypes(include=[np.number])\n",
    "numeric_cols = df_numeric.columns.values\n",
    "print(numeric_cols)\n",
    "\n",
    "# select non numeric columns\n",
    "df_non_numeric = df3.select_dtypes(exclude=[np.number])\n",
    "non_numeric_cols = df_non_numeric.columns.values\n",
    "print(non_numeric_cols)"
   ]
  },
  {
   "cell_type": "code",
   "execution_count": 26,
   "metadata": {},
   "outputs": [
    {
     "name": "stdout",
     "output_type": "stream",
     "text": [
      "['Area Code' 'Element Code' 'Item Code' 'Year Code' 'Year' 'Value']\n",
      "['Domain Code' 'Domain' 'Area' 'Element' 'Item' 'Unit']\n"
     ]
    }
   ],
   "source": [
    "# select numeric columns\n",
    "df_numeric = df4.select_dtypes(include=[np.number])\n",
    "numeric_cols = df_numeric.columns.values\n",
    "print(numeric_cols)\n",
    "\n",
    "# select non numeric columns\n",
    "df_non_numeric = df4.select_dtypes(exclude=[np.number])\n",
    "non_numeric_cols = df_non_numeric.columns.values\n",
    "print(non_numeric_cols)"
   ]
  },
  {
   "cell_type": "code",
   "execution_count": 17,
   "metadata": {},
   "outputs": [
    {
     "name": "stdout",
     "output_type": "stream",
     "text": [
      "['Unnamed: 0' 'Year' 'hg/ha_yield' 'average_rain_fall_mm_per_year'\n",
      " 'pesticides_tonnes' 'avg_temp']\n",
      "['Area' 'Item']\n"
     ]
    }
   ],
   "source": [
    "# select numeric columns\n",
    "df_numeric = df5.select_dtypes(include=[np.number])\n",
    "numeric_cols = df_numeric.columns.values\n",
    "print(numeric_cols)\n",
    "\n",
    "# select non numeric columns\n",
    "df_non_numeric = df5.select_dtypes(exclude=[np.number])\n",
    "non_numeric_cols = df_non_numeric.columns.values\n",
    "print(non_numeric_cols)"
   ]
  },
  {
   "cell_type": "markdown",
   "metadata": {
    "azdata_cell_guid": "e172475a-c4ee-414a-8367-9965355dbba6"
   },
   "source": [
    "## Missing Data\n",
    "\n",
    "Test your dataset for missing data and handle it as needed. Make notes in the form of code comments as to your thought process."
   ]
  },
  {
   "cell_type": "code",
   "execution_count": 28,
   "metadata": {
    "azdata_cell_guid": "e1dc66ef-e471-4c27-92e7-ee878c106eba",
    "scrolled": true
   },
   "outputs": [
    {
     "name": "stdout",
     "output_type": "stream",
     "text": [
      "Unnamed: 0 - 0%\n",
      "Area - 0%\n",
      "Item - 0%\n",
      "Year - 0%\n",
      "hg/ha_yield - 0%\n",
      "average_rain_fall_mm_per_year - 0%\n",
      "pesticides_tonnes - 0%\n",
      "avg_temp - 0%\n"
     ]
    }
   ],
   "source": [
    "# missing data % for each feature.\n",
    "for col in df5.columns:\n",
    "    pct_missing = np.mean(df5[col].isnull())\n",
    "    print('{} - {}%'.format(col, round(pct_missing*100)))"
   ]
  },
  {
   "cell_type": "code",
   "execution_count": 30,
   "metadata": {},
   "outputs": [
    {
     "name": "stdout",
     "output_type": "stream",
     "text": [
      "Domain - 0%\n",
      "Area - 0%\n",
      "Element - 0%\n",
      "Item - 0%\n",
      "Year - 0%\n",
      "Unit - 0%\n",
      "Value - 0%\n"
     ]
    }
   ],
   "source": [
    "# missing data % for each feature.\n",
    "for col in df1.columns:\n",
    "    pct_missing = np.mean(df1[col].isnull())\n",
    "    print('{} - {}%'.format(col, round(pct_missing*100)))"
   ]
  },
  {
   "cell_type": "code",
   "execution_count": 31,
   "metadata": {},
   "outputs": [
    {
     "name": "stdout",
     "output_type": "stream",
     "text": [
      " Area - 0%\n",
      "Year - 0%\n",
      "average_rain_fall_mm_per_year - 12%\n"
     ]
    }
   ],
   "source": [
    "# missing data % for each feature.\n",
    "for col in df2.columns:\n",
    "    pct_missing = np.mean(df2[col].isnull())\n",
    "    print('{} - {}%'.format(col, round(pct_missing*100)))"
   ]
  },
  {
   "cell_type": "code",
   "execution_count": 32,
   "metadata": {},
   "outputs": [
    {
     "name": "stdout",
     "output_type": "stream",
     "text": [
      "year - 0%\n",
      "country - 0%\n",
      "avg_temp - 4%\n"
     ]
    }
   ],
   "source": [
    "# missing data % for each feature.\n",
    "for col in df3.columns:\n",
    "    pct_missing = np.mean(df3[col].isnull())\n",
    "    print('{} - {}%'.format(col, round(pct_missing*100)))"
   ]
  },
  {
   "cell_type": "code",
   "execution_count": 33,
   "metadata": {},
   "outputs": [
    {
     "name": "stdout",
     "output_type": "stream",
     "text": [
      "Domain Code - 0%\n",
      "Domain - 0%\n",
      "Area Code - 0%\n",
      "Area - 0%\n",
      "Element Code - 0%\n",
      "Element - 0%\n",
      "Item Code - 0%\n",
      "Item - 0%\n",
      "Year Code - 0%\n",
      "Year - 0%\n",
      "Unit - 0%\n",
      "Value - 0%\n"
     ]
    }
   ],
   "source": [
    "# missing data % for each feature.\n",
    "for col in df4.columns:\n",
    "    pct_missing = np.mean(df4[col].isnull())\n",
    "    print('{} - {}%'.format(col, round(pct_missing*100)))"
   ]
  },
  {
   "cell_type": "code",
   "execution_count": 29,
   "metadata": {
    "scrolled": true
   },
   "outputs": [
    {
     "data": {
      "text/html": [
       "<div>\n",
       "<style scoped>\n",
       "    .dataframe tbody tr th:only-of-type {\n",
       "        vertical-align: middle;\n",
       "    }\n",
       "\n",
       "    .dataframe tbody tr th {\n",
       "        vertical-align: top;\n",
       "    }\n",
       "\n",
       "    .dataframe thead th {\n",
       "        text-align: right;\n",
       "    }\n",
       "</style>\n",
       "<table border=\"1\" class=\"dataframe\">\n",
       "  <thead>\n",
       "    <tr style=\"text-align: right;\">\n",
       "      <th></th>\n",
       "      <th>Unnamed: 0</th>\n",
       "      <th>Year</th>\n",
       "      <th>hg/ha_yield</th>\n",
       "      <th>average_rain_fall_mm_per_year</th>\n",
       "      <th>pesticides_tonnes</th>\n",
       "      <th>avg_temp</th>\n",
       "    </tr>\n",
       "  </thead>\n",
       "  <tbody>\n",
       "    <tr>\n",
       "      <th>Unnamed: 0</th>\n",
       "      <td>1.000000</td>\n",
       "      <td>0.043850</td>\n",
       "      <td>0.013395</td>\n",
       "      <td>-0.228755</td>\n",
       "      <td>-0.316017</td>\n",
       "      <td>-0.051584</td>\n",
       "    </tr>\n",
       "    <tr>\n",
       "      <th>Year</th>\n",
       "      <td>0.043850</td>\n",
       "      <td>1.000000</td>\n",
       "      <td>0.091630</td>\n",
       "      <td>-0.003798</td>\n",
       "      <td>0.140930</td>\n",
       "      <td>0.014409</td>\n",
       "    </tr>\n",
       "    <tr>\n",
       "      <th>hg/ha_yield</th>\n",
       "      <td>0.013395</td>\n",
       "      <td>0.091630</td>\n",
       "      <td>1.000000</td>\n",
       "      <td>0.000962</td>\n",
       "      <td>0.064085</td>\n",
       "      <td>-0.114777</td>\n",
       "    </tr>\n",
       "    <tr>\n",
       "      <th>average_rain_fall_mm_per_year</th>\n",
       "      <td>-0.228755</td>\n",
       "      <td>-0.003798</td>\n",
       "      <td>0.000962</td>\n",
       "      <td>1.000000</td>\n",
       "      <td>0.180984</td>\n",
       "      <td>0.313040</td>\n",
       "    </tr>\n",
       "    <tr>\n",
       "      <th>pesticides_tonnes</th>\n",
       "      <td>-0.316017</td>\n",
       "      <td>0.140930</td>\n",
       "      <td>0.064085</td>\n",
       "      <td>0.180984</td>\n",
       "      <td>1.000000</td>\n",
       "      <td>0.030946</td>\n",
       "    </tr>\n",
       "    <tr>\n",
       "      <th>avg_temp</th>\n",
       "      <td>-0.051584</td>\n",
       "      <td>0.014409</td>\n",
       "      <td>-0.114777</td>\n",
       "      <td>0.313040</td>\n",
       "      <td>0.030946</td>\n",
       "      <td>1.000000</td>\n",
       "    </tr>\n",
       "  </tbody>\n",
       "</table>\n",
       "</div>"
      ],
      "text/plain": [
       "                               Unnamed: 0      Year  hg/ha_yield  \\\n",
       "Unnamed: 0                       1.000000  0.043850     0.013395   \n",
       "Year                             0.043850  1.000000     0.091630   \n",
       "hg/ha_yield                      0.013395  0.091630     1.000000   \n",
       "average_rain_fall_mm_per_year   -0.228755 -0.003798     0.000962   \n",
       "pesticides_tonnes               -0.316017  0.140930     0.064085   \n",
       "avg_temp                        -0.051584  0.014409    -0.114777   \n",
       "\n",
       "                               average_rain_fall_mm_per_year  \\\n",
       "Unnamed: 0                                         -0.228755   \n",
       "Year                                               -0.003798   \n",
       "hg/ha_yield                                         0.000962   \n",
       "average_rain_fall_mm_per_year                       1.000000   \n",
       "pesticides_tonnes                                   0.180984   \n",
       "avg_temp                                            0.313040   \n",
       "\n",
       "                               pesticides_tonnes  avg_temp  \n",
       "Unnamed: 0                             -0.316017 -0.051584  \n",
       "Year                                    0.140930  0.014409  \n",
       "hg/ha_yield                             0.064085 -0.114777  \n",
       "average_rain_fall_mm_per_year           0.180984  0.313040  \n",
       "pesticides_tonnes                       1.000000  0.030946  \n",
       "avg_temp                                0.030946  1.000000  "
      ]
     },
     "execution_count": 29,
     "metadata": {},
     "output_type": "execute_result"
    }
   ],
   "source": [
    "# correlation percentage\n",
    "df5.corr()"
   ]
  },
  {
   "cell_type": "code",
   "execution_count": null,
   "metadata": {},
   "outputs": [],
   "source": [
    "# Mode represents the most frequent value in a categorical variable.\n",
    "\n",
    "# It is used to impute missing values in categorical data because it preserves the distribution and frequency of the categories."
   ]
  },
  {
   "cell_type": "code",
   "execution_count": 38,
   "metadata": {},
   "outputs": [],
   "source": [
    "df2['average_rain_fall_mm_per_year'] = df2['average_rain_fall_mm_per_year'].mode().values[0]"
   ]
  },
  {
   "cell_type": "code",
   "execution_count": 41,
   "metadata": {},
   "outputs": [
    {
     "data": {
      "text/plain": [
       "0"
      ]
     },
     "execution_count": 41,
     "metadata": {},
     "output_type": "execute_result"
    }
   ],
   "source": [
    "df2['average_rain_fall_mm_per_year'].isnull().sum()"
   ]
  },
  {
   "cell_type": "code",
   "execution_count": 43,
   "metadata": {},
   "outputs": [
    {
     "name": "stdout",
     "output_type": "stream",
     "text": [
      " Area - 0%\n",
      "Year - 0%\n",
      "average_rain_fall_mm_per_year - 0%\n"
     ]
    }
   ],
   "source": [
    "for col in df2.columns:\n",
    "    pct_missing = np.mean(df2[col].isnull())\n",
    "    print('{} - {}%'.format(col, round(pct_missing*100)))"
   ]
  },
  {
   "cell_type": "code",
   "execution_count": null,
   "metadata": {},
   "outputs": [],
   "source": [
    "# feature is a numeric variable,applied missing data imputation. \n",
    "# Replaced the missing values with the average or median value from the data of the same feature that is not missing."
   ]
  },
  {
   "cell_type": "code",
   "execution_count": 35,
   "metadata": {},
   "outputs": [],
   "source": [
    "df3['avg_temp']= df3['avg_temp'].fillna(df3['avg_temp'].median())\n"
   ]
  },
  {
   "cell_type": "code",
   "execution_count": 36,
   "metadata": {},
   "outputs": [
    {
     "name": "stdout",
     "output_type": "stream",
     "text": [
      "year - 0%\n",
      "country - 0%\n",
      "avg_temp - 0%\n"
     ]
    }
   ],
   "source": [
    "for col in df3.columns:\n",
    "    pct_missing = np.mean(df3[col].isnull())\n",
    "    print('{} - {}%'.format(col, round(pct_missing*100)))\n"
   ]
  },
  {
   "cell_type": "markdown",
   "metadata": {
    "azdata_cell_guid": "1233f543-e9a0-4f78-96f5-d7536554102e"
   },
   "source": [
    "## Irregular Data\n",
    "\n",
    "Detect outliers in your dataset and handle them as needed. Use code comments to make notes about your thought process."
   ]
  },
  {
   "cell_type": "code",
   "execution_count": 52,
   "metadata": {},
   "outputs": [
    {
     "data": {
      "text/plain": [
       "Unnamed: 0               int64\n",
       "Airline Name            object\n",
       "Overall_Rating          object\n",
       "Review_Title            object\n",
       "Review Date             object\n",
       "Verified                  bool\n",
       "Review                  object\n",
       "Type Of Traveller       object\n",
       "Seat Type               object\n",
       "Route                   object\n",
       "Date Flown              object\n",
       "Seat Comfort           float64\n",
       "Cabin Staff Service    float64\n",
       "Food & Beverages       float64\n",
       "Ground Service         float64\n",
       "Value For Money        float64\n",
       "Recommended             object\n",
       "dtype: object"
      ]
     },
     "execution_count": 52,
     "metadata": {},
     "output_type": "execute_result"
    }
   ],
   "source": [
    "# Depending on if a column is numeric or categorical with determine what method \n",
    "# to use for outliers\n",
    "\n",
    "# find the datatype of each column\n",
    "df.dtypes"
   ]
  },
  {
   "cell_type": "code",
   "execution_count": 53,
   "metadata": {
    "azdata_cell_guid": "efed50ae-16f0-471d-98e2-632553a74c12"
   },
   "outputs": [
    {
     "data": {
      "text/html": [
       "<div>\n",
       "<style scoped>\n",
       "    .dataframe tbody tr th:only-of-type {\n",
       "        vertical-align: middle;\n",
       "    }\n",
       "\n",
       "    .dataframe tbody tr th {\n",
       "        vertical-align: top;\n",
       "    }\n",
       "\n",
       "    .dataframe thead th {\n",
       "        text-align: right;\n",
       "    }\n",
       "</style>\n",
       "<table border=\"1\" class=\"dataframe\">\n",
       "  <thead>\n",
       "    <tr style=\"text-align: right;\">\n",
       "      <th></th>\n",
       "      <th>Unnamed: 0</th>\n",
       "      <th>Seat Comfort</th>\n",
       "      <th>Cabin Staff Service</th>\n",
       "      <th>Food &amp; Beverages</th>\n",
       "      <th>Ground Service</th>\n",
       "      <th>Value For Money</th>\n",
       "    </tr>\n",
       "  </thead>\n",
       "  <tbody>\n",
       "    <tr>\n",
       "      <th>count</th>\n",
       "      <td>23171.00000</td>\n",
       "      <td>23171.000000</td>\n",
       "      <td>23171.000000</td>\n",
       "      <td>23171.000000</td>\n",
       "      <td>23171.000000</td>\n",
       "      <td>23171.000000</td>\n",
       "    </tr>\n",
       "    <tr>\n",
       "      <th>mean</th>\n",
       "      <td>11585.00000</td>\n",
       "      <td>2.686807</td>\n",
       "      <td>2.895214</td>\n",
       "      <td>2.346424</td>\n",
       "      <td>2.073713</td>\n",
       "      <td>2.430409</td>\n",
       "    </tr>\n",
       "    <tr>\n",
       "      <th>std</th>\n",
       "      <td>6689.03588</td>\n",
       "      <td>1.335065</td>\n",
       "      <td>1.450486</td>\n",
       "      <td>1.236760</td>\n",
       "      <td>1.523264</td>\n",
       "      <td>1.559917</td>\n",
       "    </tr>\n",
       "    <tr>\n",
       "      <th>min</th>\n",
       "      <td>0.00000</td>\n",
       "      <td>0.000000</td>\n",
       "      <td>0.000000</td>\n",
       "      <td>0.000000</td>\n",
       "      <td>1.000000</td>\n",
       "      <td>0.000000</td>\n",
       "    </tr>\n",
       "    <tr>\n",
       "      <th>25%</th>\n",
       "      <td>5792.50000</td>\n",
       "      <td>1.000000</td>\n",
       "      <td>1.000000</td>\n",
       "      <td>2.000000</td>\n",
       "      <td>1.000000</td>\n",
       "      <td>1.000000</td>\n",
       "    </tr>\n",
       "    <tr>\n",
       "      <th>50%</th>\n",
       "      <td>11585.00000</td>\n",
       "      <td>3.000000</td>\n",
       "      <td>3.000000</td>\n",
       "      <td>2.000000</td>\n",
       "      <td>1.000000</td>\n",
       "      <td>2.000000</td>\n",
       "    </tr>\n",
       "    <tr>\n",
       "      <th>75%</th>\n",
       "      <td>17377.50000</td>\n",
       "      <td>4.000000</td>\n",
       "      <td>4.000000</td>\n",
       "      <td>3.000000</td>\n",
       "      <td>3.000000</td>\n",
       "      <td>4.000000</td>\n",
       "    </tr>\n",
       "    <tr>\n",
       "      <th>max</th>\n",
       "      <td>23170.00000</td>\n",
       "      <td>5.000000</td>\n",
       "      <td>5.000000</td>\n",
       "      <td>5.000000</td>\n",
       "      <td>5.000000</td>\n",
       "      <td>5.000000</td>\n",
       "    </tr>\n",
       "  </tbody>\n",
       "</table>\n",
       "</div>"
      ],
      "text/plain": [
       "        Unnamed: 0  Seat Comfort  Cabin Staff Service  Food & Beverages  \\\n",
       "count  23171.00000  23171.000000         23171.000000      23171.000000   \n",
       "mean   11585.00000      2.686807             2.895214          2.346424   \n",
       "std     6689.03588      1.335065             1.450486          1.236760   \n",
       "min        0.00000      0.000000             0.000000          0.000000   \n",
       "25%     5792.50000      1.000000             1.000000          2.000000   \n",
       "50%    11585.00000      3.000000             3.000000          2.000000   \n",
       "75%    17377.50000      4.000000             4.000000          3.000000   \n",
       "max    23170.00000      5.000000             5.000000          5.000000   \n",
       "\n",
       "       Ground Service  Value For Money  \n",
       "count    23171.000000     23171.000000  \n",
       "mean         2.073713         2.430409  \n",
       "std          1.523264         1.559917  \n",
       "min          1.000000         0.000000  \n",
       "25%          1.000000         1.000000  \n",
       "50%          1.000000         2.000000  \n",
       "75%          3.000000         4.000000  \n",
       "max          5.000000         5.000000  "
      ]
     },
     "execution_count": 53,
     "metadata": {},
     "output_type": "execute_result"
    }
   ],
   "source": [
    "# I am using describe to find out outliers,food & Beverages showed feature has outliers. \n",
    "df.describe()"
   ]
  },
  {
   "cell_type": "code",
   "execution_count": 54,
   "metadata": {},
   "outputs": [
    {
     "data": {
      "text/plain": [
       "<matplotlib.axes._subplots.AxesSubplot at 0x1f068d97148>"
      ]
     },
     "execution_count": 54,
     "metadata": {},
     "output_type": "execute_result"
    },
    {
     "data": {
      "image/png": "[encoded data removed]",
      "text/plain": [
       "<Figure size 432x288 with 1 Axes>"
      ]
     },
     "metadata": {
      "needs_background": "light"
     },
     "output_type": "display_data"
    }
   ],
   "source": [
    "df.boxplot(column=['Food & Beverages'])"
   ]
  },
  {
   "cell_type": "code",
   "execution_count": 55,
   "metadata": {},
   "outputs": [
    {
     "data": {
      "text/plain": [
       "<matplotlib.axes._subplots.AxesSubplot at 0x1f068021a08>"
      ]
     },
     "execution_count": 55,
     "metadata": {},
     "output_type": "execute_result"
    },
    {
     "data": {
      "image/png": "[encoded data removed]",
      "text/plain": [
       "<Figure size 432x288 with 1 Axes>"
      ]
     },
     "metadata": {
      "needs_background": "light"
     },
     "output_type": "display_data"
    }
   ],
   "source": [
    "df['Food & Beverages'].hist(bins=100)"
   ]
  },
  {
   "cell_type": "code",
   "execution_count": 56,
   "metadata": {},
   "outputs": [
    {
     "data": {
      "text/plain": [
       "2.0    10638\n",
       "1.0     5283\n",
       "3.0     2424\n",
       "4.0     2332\n",
       "5.0     2242\n",
       "0.0      252\n",
       "Name: Food & Beverages, dtype: int64"
      ]
     },
     "execution_count": 56,
     "metadata": {},
     "output_type": "execute_result"
    }
   ],
   "source": [
    "df['Food & Beverages'].value_counts()"
   ]
  },
  {
   "cell_type": "code",
   "execution_count": null,
   "metadata": {},
   "outputs": [],
   "source": [
    "# value 0 and 1 seems to be outliers here,at this time i am not convinced to remove any outliers column"
   ]
  },
  {
   "cell_type": "markdown",
   "metadata": {
    "azdata_cell_guid": "6f5b8ee0-bab3-44bc-958a-67d1e4c0407f"
   },
   "source": [
    "## Unnecessary Data\n",
    "\n",
    "Look for the different types of unnecessary data in your dataset and address it as needed. Make sure to use code comments to illustrate your thought process."
   ]
  },
  {
   "cell_type": "code",
   "execution_count": 57,
   "metadata": {},
   "outputs": [
    {
     "data": {
      "text/plain": [
       "Index(['Unnamed: 0', 'Airline Name', 'Overall_Rating', 'Review_Title',\n",
       "       'Review Date', 'Verified', 'Review', 'Type Of Traveller', 'Seat Type',\n",
       "       'Route', 'Date Flown', 'Seat Comfort', 'Cabin Staff Service',\n",
       "       'Food & Beverages', 'Ground Service', 'Value For Money', 'Recommended'],\n",
       "      dtype='object')"
      ]
     },
     "execution_count": 57,
     "metadata": {},
     "output_type": "execute_result"
    }
   ],
   "source": [
    "df.columns"
   ]
  },
  {
   "cell_type": "code",
   "execution_count": 58,
   "metadata": {
    "azdata_cell_guid": "e788a239-2fbf-41de-9bd3-19e52e3b187c"
   },
   "outputs": [],
   "source": [
    "# In the EDA process, I discovered that some of the columns are redundant so I am going to remove these ones first.\n",
    "df.drop(columns=['Unnamed: 0','Review Date','Date Flown','Route'],inplace=True)"
   ]
  },
  {
   "cell_type": "markdown",
   "metadata": {
    "azdata_cell_guid": "53e0cf94-c68a-4fa0-9849-9505a66bcce6"
   },
   "source": [
    "## Inconsistent Data\n",
    "\n",
    "Check for inconsistent data and address any that arises. As always, use code comments to illustrate your thought process."
   ]
  },
  {
   "cell_type": "code",
   "execution_count": 59,
   "metadata": {
    "azdata_cell_guid": "e9de6624-812a-43f8-8e20-93b4a49b091f"
   },
   "outputs": [
    {
     "data": {
      "text/plain": [
       "1    11595\n",
       "2     2296\n",
       "9     1768\n",
       "8     1757\n",
       "3     1356\n",
       "7     1193\n",
       "4      859\n",
       "n      842\n",
       "5      830\n",
       "6      675\n",
       "Name: Overall_Rating, dtype: int64"
      ]
     },
     "execution_count": 59,
     "metadata": {},
     "output_type": "execute_result"
    }
   ],
   "source": [
    "df['Overall_Rating'].value_counts()"
   ]
  },
  {
   "cell_type": "code",
   "execution_count": 60,
   "metadata": {},
   "outputs": [],
   "source": [
    "# I Observed overall_Rating column has 1 to 9,I assumed there might be mistake type n instead of 10\n",
    "# I decided to replace 10 inplace of 10.\n",
    "df['Overall_Rating']=df['Overall_Rating'].replace('n',10)"
   ]
  },
  {
   "cell_type": "code",
   "execution_count": 61,
   "metadata": {},
   "outputs": [
    {
     "data": {
      "text/plain": [
       "1     11595\n",
       "2      2296\n",
       "9      1768\n",
       "8      1757\n",
       "3      1356\n",
       "7      1193\n",
       "4       859\n",
       "10      842\n",
       "5       830\n",
       "6       675\n",
       "Name: Overall_Rating, dtype: int64"
      ]
     },
     "execution_count": 61,
     "metadata": {},
     "output_type": "execute_result"
    }
   ],
   "source": [
    "df['Overall_Rating'].value_counts()"
   ]
  },
  {
   "cell_type": "code",
   "execution_count": 62,
   "metadata": {},
   "outputs": [
    {
     "data": {
      "text/plain": [
       "no     15364\n",
       "yes     7807\n",
       "Name: Recommended, dtype: int64"
      ]
     },
     "execution_count": 62,
     "metadata": {},
     "output_type": "execute_result"
    }
   ],
   "source": [
    "# I observed recommended column values are string data,For analysis purpose I decided to replace no as 0 and yes as 1.\n",
    "df['Recommended'].value_counts()"
   ]
  },
  {
   "cell_type": "code",
   "execution_count": 63,
   "metadata": {},
   "outputs": [],
   "source": [
    "df['Recommended']=df['Recommended'].map({'no':0,'yes':1})\n"
   ]
  },
  {
   "cell_type": "code",
   "execution_count": 64,
   "metadata": {},
   "outputs": [
    {
     "data": {
      "text/plain": [
       "0    15364\n",
       "1     7807\n",
       "Name: Recommended, dtype: int64"
      ]
     },
     "execution_count": 64,
     "metadata": {},
     "output_type": "execute_result"
    }
   ],
   "source": [
    "df['Recommended'].value_counts()"
   ]
  },
  {
   "cell_type": "code",
   "execution_count": 65,
   "metadata": {},
   "outputs": [],
   "source": [
    "# Exporting cleaned data set\n",
    "df.to_csv(\"C:\\\\Users\\\\prave\\\\Desktop\\\\LaunchcodeW+\\\\cleaning-data-checkpoint\\\\cleaning_checkpoint.csv\")\n"
   ]
  },
  {
   "cell_type": "markdown",
   "metadata": {
    "azdata_cell_guid": "dedc0bfe-17d0-40b2-914f-2ddb54f9ce0d"
   },
   "source": [
    "## Summarize Your Results\n",
    "\n",
    "Make note of your answers to the following questions.\n",
    "\n",
    "1. Did you find all four types of dirty data in your dataset?\n",
    "   Yes, in some columns there were missing values and irregular data.\n",
    "2. Did the process of cleaning your data give you new insights into your dataset?\n",
    "   Yes, I am more familiar with the few entities I'm actually interested in exploring\n",
    "3. Is there anything you would like to make note of when it comes to manipulating the data and making visualizations?\n",
    "   No"
   ]
  }
 ],
 "metadata": {
  "kernelspec": {
   "display_name": "Python 3",
   "language": "python",
   "name": "python3"
  },
  "language_info": {
   "codemirror_mode": {
    "name": "ipython",
    "version": 3
   },
   "file_extension": ".py",
   "mimetype": "text/x-python",
   "name": "python",
   "nbconvert_exporter": "python",
   "pygments_lexer": "ipython3",
   "version": "3.7.4"
  }
 },
 "nbformat": 4,
 "nbformat_minor": 2
}
